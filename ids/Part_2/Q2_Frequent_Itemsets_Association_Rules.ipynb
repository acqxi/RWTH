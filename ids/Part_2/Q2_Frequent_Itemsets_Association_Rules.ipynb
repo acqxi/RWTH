{
 "cells": [
  {
   "cell_type": "markdown",
   "id": "dc736900",
   "metadata": {
    "collapsed": false
   },
   "source": [
    "# Introduction into Data Science - Assignment Part II\n",
    "\n",
    "This is the second part of the assignment in IDS 2023/2024.\n",
    "\n",
    "This part of the assignment consists of five questions — each of these questions is contained in a separate Jupyter notebook:\n",
    "- [Question 1: Data Preprocessing](Q1_Preprocessing_Visualization.ipynb)\n",
    "- [Question 2: Association Rules](Q2_Frequent_Itemsets_Association_Rules.ipynb)\n",
    "- [Question 3: Process Mining](Q3_Process_Mining.ipynb)\n",
    "- [Question 4: Text Mining](Q4_Text_Mining.ipynb)\n",
    "- [Question 5: Big Data](Q5_Big_Data.ipynb)\n",
    "\n",
    "Additional required files are in two folders.\n",
    "- [datasets](datasets/)\n",
    "- [scripts](scripts/)\n",
    "\n",
    "Please use the provided notebook to work on the questions. When you are done, upload your version of each of the notebooks to Moodle. Your submission will, therefore, consist of five jupyter notebook and _no_ additional file. Any additionally provided files will not be considered in grading.\n",
    "Enter your commented Python code and answers in the corresponding cells. Make sure to answer all questions in a clear and explicit manner and discuss your outputs. _Please do not change the general structure of this notebook_. You can, however, add additional markdown or code cells if necessary. Please **DO NOT CLEAR THE OUTPUT** of the notebook you are submitting! Additionally, please ensure that the code in the notebook runs if placed in the same folder as all of the provided files, delivering the same outputs as the ones you submit in the notebook. This includes being runnable in the bundled conda environment.\n",
    "\n",
    "*Please make sure to include the names and matriculation numbers of all group members in the provided slots in each of the notebooks.* If a name or a student id is missing, the student will not receive any points.\n",
    "\n",
    "Hint 1: **Plan your time wisely.** A few parts of this assignment may take some time to run. It might be necessary to consider time management when you plan your group work. Also, do not attempt to upload your assignment at the last minute before the deadline. This often does not work, and you will miss the deadline. Late submissions will not be considered.\n",
    "\n",
    "Hint 2: RWTHMoodle allows multiple submissions, with every new submission overwriting the previous one. **Partial submissions are possible and encouraged.** This might be helpful in case of technical issues with RWTHMoodle, which may occur close to the deadline.\n",
    "\n",
    "Hint 3: As a technical note. Some IDEs such as DataSpell may automatically strip jupyter notebook cell metadata. If you are able, please re-add it from the source notebooks before submission. This is necessary for our grading."
   ]
  },
  {
   "cell_type": "markdown",
   "id": "50ebd71b",
   "metadata": {},
   "source": [
    "Enter your group number and members with matriculation numbers below."
   ]
  },
  {
   "cell_type": "code",
   "execution_count": 1,
   "id": "0a8dcd84",
   "metadata": {
    "ExecuteTime": {
     "end_time": "2023-12-12T14:39:43.463127500Z",
     "start_time": "2023-12-12T14:39:43.450885200Z"
    }
   },
   "outputs": [],
   "source": [
    "GROUP_NO = 9 # group number\n",
    "GROUP_MEMBERS = {\n",
    "    459114: \"Yu-Ting Huang\", # mat. no. : name,\n",
    "    460730: \"Chieh-Ting Lin\",\n",
    "}"
   ]
  },
  {
   "cell_type": "markdown",
   "id": "b8dac0d2",
   "metadata": {},
   "source": [
    "---"
   ]
  },
  {
   "cell_type": "code",
   "execution_count": 2,
   "id": "643d3176-911a-4d06-a089-635a59262446",
   "metadata": {
    "ExecuteTime": {
     "end_time": "2023-12-21T17:52:43.852055600Z",
     "start_time": "2023-12-21T17:52:39.317172600Z"
    },
    "deletable": false,
    "editable": false,
    "nbgrader": {
     "cell_type": "code",
     "checksum": "2e98628357389d97277fd5bb2304b422",
     "grade": false,
     "grade_id": "cell-11eb4e5385499089",
     "locked": true,
     "schema_version": 3,
     "solution": false,
     "task": false
    }
   },
   "outputs": [],
   "source": [
    "# required imports\n",
    "# please do not edit!\n",
    "import csv\n",
    "from mlxtend.preprocessing import TransactionEncoder\n",
    "import pandas as pd\n",
    "from mlxtend.frequent_patterns import apriori\n",
    "import datetime\n",
    "from mlxtend.frequent_patterns import association_rules as arule\n",
    "import pandas as pd\n",
    "from mlxtend.frequent_patterns import fpgrowth"
   ]
  },
  {
   "cell_type": "markdown",
   "id": "30536b42d3a4772d",
   "metadata": {
    "collapsed": false,
    "deletable": false,
    "editable": false,
    "nbgrader": {
     "cell_type": "markdown",
     "checksum": "a1996913dec4663ed32e804c6b11d75f",
     "grade": false,
     "grade_id": "cell-df5086a331965843",
     "locked": true,
     "schema_version": 3,
     "solution": false,
     "task": false
    }
   },
   "source": [
    "# Question 2: Frequent Item Sets and Association Rules (13 points)\n",
    "\n",
    "In this question, you work with transaction data of the customer's visits to the store.\n",
    "\n",
    "### a) \n",
    "Load the transactions from the csv-file called **q2_store_transactions.csv** into a variable called `groceries`. The variable should be a list and each row in the csv-file should be represented as a list within this list."
   ]
  },
  {
   "cell_type": "code",
   "execution_count": 3,
   "id": "271f956f-b6ef-4413-ab4d-9d64d394b1d8",
   "metadata": {
    "ExecuteTime": {
     "end_time": "2023-12-21T17:52:43.896155300Z",
     "start_time": "2023-12-21T17:52:43.852055600Z"
    },
    "deletable": false,
    "nbgrader": {
     "cell_type": "code",
     "checksum": "17f81d2c952b41eb7c00216ad9d1ab07",
     "grade": false,
     "grade_id": "cell-c0de0ba5c6febe0c",
     "locked": false,
     "schema_version": 3,
     "solution": true,
     "task": false
    }
   },
   "outputs": [],
   "source": [
    "import csv\n",
    "\n",
    "# YOUR CODE HERE\n",
    "\n",
    "groceries = pd.read_csv(\"./datasets/q2_store_transactions.csv\").values.tolist()"
   ]
  },
  {
   "cell_type": "code",
   "execution_count": 4,
   "id": "cd02db86-5600-4558-8d3c-d3856fd04872",
   "metadata": {
    "ExecuteTime": {
     "end_time": "2023-12-21T17:52:43.922359Z",
     "start_time": "2023-12-21T17:52:43.883160Z"
    },
    "deletable": false,
    "editable": false,
    "nbgrader": {
     "cell_type": "code",
     "checksum": "af9c22c02888a318b091d1710c3c8f45",
     "grade": true,
     "grade_id": "cell-f9f13c0cff6d5bd1",
     "locked": true,
     "points": 2,
     "schema_version": 3,
     "solution": false,
     "task": false
    }
   },
   "outputs": [],
   "source": [
    "# Please leave this cell empty - used for grading."
   ]
  },
  {
   "cell_type": "markdown",
   "id": "e86f2ae0827ad890",
   "metadata": {
    "collapsed": false,
    "deletable": false,
    "editable": false,
    "nbgrader": {
     "cell_type": "markdown",
     "checksum": "1b9dcd6f10d7774771c8092df49507fd",
     "grade": false,
     "grade_id": "cell-7547f9b84eb06dbe",
     "locked": true,
     "schema_version": 3,
     "solution": false,
     "task": false
    }
   },
   "source": [
    "### b) \n",
    "Transform the entries from the list to a binary matrix using an object of *TransactionEncoder* as introduced in the exercise. Name the resulting dataframe `itemset_matrix` and display the first 20 rows."
   ]
  },
  {
   "cell_type": "code",
   "execution_count": 5,
   "id": "5fa64fd9-e2a2-46a6-bb14-beb9b1e9613f",
   "metadata": {
    "ExecuteTime": {
     "end_time": "2023-12-21T17:52:43.975380400Z",
     "start_time": "2023-12-21T17:52:43.914173600Z"
    },
    "deletable": false,
    "nbgrader": {
     "cell_type": "code",
     "checksum": "c48b57a7abe04344262395dabf5682e6",
     "grade": false,
     "grade_id": "cell-a50b02f77b029338",
     "locked": false,
     "schema_version": 3,
     "solution": true,
     "task": false
    }
   },
   "outputs": [
    {
     "name": "stdout",
     "output_type": "stream",
     "text": [
      "     asparagus  almonds  antioxydant juice  asparagus  avocado  babies food  \\\n",
      "0            0        0                  0          0        0            0   \n",
      "1            0        0                  0          0        0            0   \n",
      "2            0        0                  0          0        1            0   \n",
      "3            0        0                  0          0        0            0   \n",
      "4            0        0                  0          0        0            0   \n",
      "5            0        0                  0          0        0            0   \n",
      "6            0        0                  0          0        0            0   \n",
      "7            0        0                  0          0        0            0   \n",
      "8            0        0                  0          0        0            0   \n",
      "9            0        0                  0          0        0            0   \n",
      "10           0        0                  0          0        0            0   \n",
      "11           0        0                  0          0        0            0   \n",
      "12           0        0                  0          0        0            0   \n",
      "13           0        0                  0          0        0            0   \n",
      "14           0        0                  0          0        0            0   \n",
      "15           0        0                  0          0        0            0   \n",
      "16           0        0                  0          0        0            0   \n",
      "17           0        0                  0          0        0            0   \n",
      "18           0        0                  0          0        0            0   \n",
      "19           0        0                  0          0        0            0   \n",
      "\n",
      "    bacon  barbecue sauce  black tea  blueberries  ...  turkey  \\\n",
      "0       0               0          0            0  ...       0   \n",
      "1       0               0          0            0  ...       0   \n",
      "2       0               0          0            0  ...       1   \n",
      "3       0               0          0            0  ...       0   \n",
      "4       0               0          0            0  ...       0   \n",
      "5       0               0          0            0  ...       0   \n",
      "6       0               0          0            0  ...       0   \n",
      "7       0               0          0            0  ...       0   \n",
      "8       0               0          0            0  ...       0   \n",
      "9       0               0          0            0  ...       0   \n",
      "10      0               0          0            0  ...       0   \n",
      "11      0               0          0            0  ...       1   \n",
      "12      0               0          0            0  ...       0   \n",
      "13      0               0          0            0  ...       0   \n",
      "14      0               0          0            0  ...       0   \n",
      "15      0               0          0            0  ...       0   \n",
      "16      0               0          0            0  ...       1   \n",
      "17      0               0          1            0  ...       1   \n",
      "18      0               0          0            0  ...       0   \n",
      "19      0               0          0            0  ...       0   \n",
      "\n",
      "    vegetables mix  water spray  white wine  whole weat flour  \\\n",
      "0                0            0           0                 0   \n",
      "1                0            0           0                 0   \n",
      "2                0            0           0                 0   \n",
      "3                0            0           0                 0   \n",
      "4                0            0           0                 0   \n",
      "5                0            0           0                 0   \n",
      "6                0            0           0                 0   \n",
      "7                0            0           0                 0   \n",
      "8                0            0           0                 0   \n",
      "9                0            0           0                 0   \n",
      "10               0            0           0                 0   \n",
      "11               0            0           0                 0   \n",
      "12               0            0           0                 0   \n",
      "13               0            0           0                 0   \n",
      "14               0            0           0                 0   \n",
      "15               0            0           0                 0   \n",
      "16               0            0           0                 0   \n",
      "17               0            0           0                 0   \n",
      "18               0            0           0                 0   \n",
      "19               0            0           0                 0   \n",
      "\n",
      "    whole wheat pasta  whole wheat rice  yams  yogurt cake  zucchini  \n",
      "0                   0                 0     0            0         0  \n",
      "1                   0                 0     0            0         0  \n",
      "2                   0                 0     0            0         0  \n",
      "3                   0                 1     0            0         0  \n",
      "4                   0                 0     0            0         0  \n",
      "5                   1                 0     0            0         0  \n",
      "6                   0                 0     0            0         0  \n",
      "7                   0                 0     0            0         0  \n",
      "8                   0                 0     0            0         0  \n",
      "9                   0                 0     0            0         0  \n",
      "10                  0                 0     0            0         0  \n",
      "11                  0                 0     0            0         0  \n",
      "12                  0                 0     0            0         0  \n",
      "13                  0                 0     0            0         0  \n",
      "14                  0                 0     0            0         0  \n",
      "15                  0                 0     0            0         0  \n",
      "16                  0                 0     0            0         0  \n",
      "17                  0                 0     0            0         0  \n",
      "18                  0                 0     0            0         0  \n",
      "19                  0                 0     0            0         0  \n",
      "\n",
      "[20 rows x 120 columns]\n"
     ]
    }
   ],
   "source": [
    "from mlxtend.preprocessing import TransactionEncoder\n",
    "import pandas as pd\n",
    "\n",
    "# YOUR CODE HERE\n",
    "\n",
    "transactionEncoder = TransactionEncoder()\n",
    "groceries_clean = [[item for item in transaction if pd.notna(item)] for transaction in groceries]\n",
    "groceries_matrix = transactionEncoder.fit_transform(groceries_clean)\n",
    "\n",
    "itemset_matrix = pd.DataFrame(groceries_matrix.astype('int'), columns=transactionEncoder.columns_)\n",
    "print(itemset_matrix.head(20))"
   ]
  },
  {
   "cell_type": "code",
   "execution_count": 6,
   "id": "918aa8c30c8cbc7e",
   "metadata": {
    "ExecuteTime": {
     "end_time": "2023-12-21T17:52:44.038425500Z",
     "start_time": "2023-12-21T17:52:43.977575400Z"
    },
    "deletable": false,
    "editable": false,
    "nbgrader": {
     "cell_type": "code",
     "checksum": "fe67e2e2d8874c242db87fc22615dcde",
     "grade": true,
     "grade_id": "cell-dffa06bc5ec9e2b2",
     "locked": true,
     "points": 1.5,
     "schema_version": 3,
     "solution": false,
     "task": false
    }
   },
   "outputs": [],
   "source": [
    "# Please leave this cell empty - used for grading."
   ]
  },
  {
   "cell_type": "code",
   "execution_count": 7,
   "id": "29a1b467-a0d3-435e-bd6d-24fdf3aaf170",
   "metadata": {
    "ExecuteTime": {
     "end_time": "2023-12-21T17:52:44.079240500Z",
     "start_time": "2023-12-21T17:52:44.006602100Z"
    },
    "deletable": false,
    "editable": false,
    "nbgrader": {
     "cell_type": "code",
     "checksum": "0acdae8c78f230da3b6f7d0ba2c882d9",
     "grade": true,
     "grade_id": "cell-892c25c4f4c30cbf",
     "locked": true,
     "points": 0.5,
     "schema_version": 3,
     "solution": false,
     "task": false
    }
   },
   "outputs": [],
   "source": [
    "# Please leave this cell empty - used for grading."
   ]
  },
  {
   "cell_type": "markdown",
   "id": "d7f9f5b3783a1190",
   "metadata": {
    "collapsed": false,
    "deletable": false,
    "editable": false,
    "nbgrader": {
     "cell_type": "markdown",
     "checksum": "f8c6560b76417b6c9e6aa179e99e0e22",
     "grade": false,
     "grade_id": "cell-68106fb2d699d45f",
     "locked": true,
     "schema_version": 3,
     "solution": false,
     "task": false
    }
   },
   "source": [
    "### c) \n",
    "Find all frequent itemsets with a **support of at least 0.03** using the Apriori algorithm and save them in a variable called `frequent_itemsets`. Display the resulting itemsets and the processing time (in milliseconds) required to detect them. "
   ]
  },
  {
   "cell_type": "code",
   "execution_count": 8,
   "id": "8fe59790-fb5b-4d72-bb17-a705819d65c3",
   "metadata": {
    "ExecuteTime": {
     "end_time": "2023-12-21T17:53:45.913853200Z",
     "start_time": "2023-12-21T17:53:45.854876100Z"
    },
    "deletable": false,
    "nbgrader": {
     "cell_type": "code",
     "checksum": "88f6f1300fc13f70e25cd06825bbafb6",
     "grade": false,
     "grade_id": "cell-d54ec6047f4ae408",
     "locked": false,
     "schema_version": 3,
     "solution": true,
     "task": false
    }
   },
   "outputs": [
    {
     "name": "stdout",
     "output_type": "stream",
     "text": [
      "     support                            itemsets\n",
      "0   0.033200                           (avocado)\n",
      "1   0.033733                          (brownies)\n",
      "2   0.087200                           (burgers)\n",
      "3   0.030133                            (butter)\n",
      "4   0.081067                              (cake)\n",
      "5   0.046800                         (champagne)\n",
      "6   0.060000                           (chicken)\n",
      "7   0.163867                         (chocolate)\n",
      "8   0.080400                           (cookies)\n",
      "9   0.051067                       (cooking oil)\n",
      "10  0.031733                    (cottage cheese)\n",
      "11  0.179733                              (eggs)\n",
      "12  0.079333                          (escalope)\n",
      "13  0.170933                      (french fries)\n",
      "14  0.043067                       (fresh bread)\n",
      "15  0.063200                   (frozen smoothie)\n",
      "16  0.095333                 (frozen vegetables)\n",
      "17  0.052400                     (grated cheese)\n",
      "18  0.132000                         (green tea)\n",
      "19  0.098267                       (ground beef)\n",
      "20  0.049467                     (herb & pepper)\n",
      "21  0.047333                             (honey)\n",
      "22  0.032400                          (hot dogs)\n",
      "23  0.076400                    (low fat yogurt)\n",
      "24  0.129600                              (milk)\n",
      "25  0.238267                     (mineral water)\n",
      "26  0.065733                         (olive oil)\n",
      "27  0.095067                          (pancakes)\n",
      "28  0.042400                            (salmon)\n",
      "29  0.071333                            (shrimp)\n",
      "30  0.050533                              (soup)\n",
      "31  0.174133                         (spaghetti)\n",
      "32  0.030267                      (tomato juice)\n",
      "33  0.068400                          (tomatoes)\n",
      "34  0.062533                            (turkey)\n",
      "35  0.058533                  (whole wheat rice)\n",
      "36  0.033200                   (eggs, chocolate)\n",
      "37  0.034400           (french fries, chocolate)\n",
      "38  0.032133                   (chocolate, milk)\n",
      "39  0.052667          (mineral water, chocolate)\n",
      "40  0.039200              (spaghetti, chocolate)\n",
      "41  0.036400                (french fries, eggs)\n",
      "42  0.030800                        (eggs, milk)\n",
      "43  0.050933               (mineral water, eggs)\n",
      "44  0.036533                   (eggs, spaghetti)\n",
      "45  0.033733       (french fries, mineral water)\n",
      "46  0.035733  (mineral water, frozen vegetables)\n",
      "47  0.030933          (green tea, mineral water)\n",
      "48  0.040933        (mineral water, ground beef)\n",
      "49  0.039200            (spaghetti, ground beef)\n",
      "50  0.048000               (mineral water, milk)\n",
      "51  0.035467                   (spaghetti, milk)\n",
      "52  0.033733           (mineral water, pancakes)\n",
      "53  0.059733          (mineral water, spaghetti)\n",
      "Processing time: 40.51 milliseconds\n"
     ]
    },
    {
     "name": "stderr",
     "output_type": "stream",
     "text": [
      "/Users/yu-tinghuang/miniconda3/envs/env-ids-ws23/lib/python3.9/site-packages/mlxtend/frequent_patterns/fpcommon.py:109: DeprecationWarning: DataFrames with non-bool types result in worse computationalperformance and their support might be discontinued in the future.Please use a DataFrame with bool type\n",
      "  warnings.warn(\n"
     ]
    }
   ],
   "source": [
    "from mlxtend.frequent_patterns import apriori\n",
    "import datetime\n",
    "\n",
    "# YOUR CODE HERE\n",
    "\n",
    "# Start timing\n",
    "start_time = datetime.datetime.now()\n",
    "\n",
    "# Find frequent itemsets with a support of at least 0.03\n",
    "frequent_itemsets = apriori(itemset_matrix, min_support=0.03, use_colnames=True)\n",
    "\n",
    "# Calculate processing time in milliseconds\n",
    "end_time = datetime.datetime.now()\n",
    "processing_time_ms = (end_time - start_time).total_seconds() * 1000\n",
    "\n",
    "print(frequent_itemsets)\n",
    "print(f\"Processing time: {processing_time_ms:.2f} milliseconds\")"
   ]
  },
  {
   "cell_type": "code",
   "execution_count": 9,
   "id": "5898d775c652b495",
   "metadata": {
    "ExecuteTime": {
     "end_time": "2023-12-21T17:52:44.159019700Z",
     "start_time": "2023-12-21T17:52:44.091547Z"
    },
    "deletable": false,
    "editable": false,
    "nbgrader": {
     "cell_type": "code",
     "checksum": "f67585b1cff444bed293c9734bb47c30",
     "grade": true,
     "grade_id": "cell-bf20cb1672af14e1",
     "locked": true,
     "points": 1,
     "schema_version": 3,
     "solution": false,
     "task": false
    }
   },
   "outputs": [],
   "source": [
    "# Please leave this cell empty - used for grading."
   ]
  },
  {
   "cell_type": "markdown",
   "id": "9109d8f98a428071",
   "metadata": {
    "collapsed": false,
    "deletable": false,
    "editable": false,
    "nbgrader": {
     "cell_type": "markdown",
     "checksum": "b2e2a9b481a6ada775bbc892537fffcb",
     "grade": false,
     "grade_id": "cell-b540425a63777866",
     "locked": true,
     "schema_version": 3,
     "solution": false,
     "task": false
    }
   },
   "source": [
    "### d)\n",
    "Find the most frequent itemsets containing **more than one product** and a **support of more than 0.04** using the Apriori algorithm. Store them in a variable called `frequent_itemsets_filtered` and show the sets in your output."
   ]
  },
  {
   "cell_type": "code",
   "execution_count": 10,
   "id": "b6024fe65f03a787",
   "metadata": {
    "ExecuteTime": {
     "end_time": "2023-12-21T17:59:48.079708800Z",
     "start_time": "2023-12-21T17:59:48.039843800Z"
    },
    "deletable": false,
    "nbgrader": {
     "cell_type": "code",
     "checksum": "2577f435740b2c3a8ba24464f8d8ddf9",
     "grade": false,
     "grade_id": "cell-bd1a6f03aacabdb2",
     "locked": false,
     "schema_version": 3,
     "solution": true,
     "task": false
    }
   },
   "outputs": [
    {
     "name": "stdout",
     "output_type": "stream",
     "text": [
      "    support                      itemsets\n",
      "0  0.052667    (mineral water, chocolate)\n",
      "1  0.050933         (mineral water, eggs)\n",
      "2  0.040933  (mineral water, ground beef)\n",
      "3  0.048000         (mineral water, milk)\n",
      "4  0.059733    (mineral water, spaghetti)\n"
     ]
    },
    {
     "name": "stderr",
     "output_type": "stream",
     "text": [
      "/Users/yu-tinghuang/miniconda3/envs/env-ids-ws23/lib/python3.9/site-packages/mlxtend/frequent_patterns/fpcommon.py:109: DeprecationWarning: DataFrames with non-bool types result in worse computationalperformance and their support might be discontinued in the future.Please use a DataFrame with bool type\n",
      "  warnings.warn(\n"
     ]
    }
   ],
   "source": [
    "# YOUR CODE HERE\n",
    "\n",
    "# Find all frequent itemsets with a support of more than 0.04\n",
    "frequent_itemsets = apriori(itemset_matrix, min_support=0.04, use_colnames=True)\n",
    "\n",
    "# Filter itemsets to keep only those containing more than one product\n",
    "frequent_itemsets_filtered = frequent_itemsets[frequent_itemsets['itemsets'].apply(lambda x: len(x) > 1)]\n",
    "\n",
    "frequent_itemsets_filtered = frequent_itemsets_filtered.reset_index(drop=True)\n",
    "print(frequent_itemsets_filtered)"
   ]
  },
  {
   "cell_type": "code",
   "execution_count": 11,
   "id": "7b4171fdb7084b29",
   "metadata": {
    "ExecuteTime": {
     "end_time": "2023-12-21T17:52:44.226544800Z",
     "start_time": "2023-12-21T17:52:44.167774900Z"
    },
    "deletable": false,
    "editable": false,
    "nbgrader": {
     "cell_type": "code",
     "checksum": "c52c4aaf113229a35c31ecd9c98d34f4",
     "grade": true,
     "grade_id": "cell-32a1725908156be1",
     "locked": true,
     "points": 0.5,
     "schema_version": 3,
     "solution": false,
     "task": false
    }
   },
   "outputs": [],
   "source": [
    "# Please leave this cell empty - used for grading."
   ]
  },
  {
   "cell_type": "code",
   "execution_count": 12,
   "id": "ffd497f9-5a29-48cc-af5a-901f68f1625b",
   "metadata": {
    "ExecuteTime": {
     "end_time": "2023-12-21T17:52:44.320358400Z",
     "start_time": "2023-12-21T17:52:44.193872300Z"
    },
    "deletable": false,
    "editable": false,
    "nbgrader": {
     "cell_type": "code",
     "checksum": "1845b6e2dc2182d67f77292c8252aac2",
     "grade": true,
     "grade_id": "cell-e7b2e299b742da32",
     "locked": true,
     "points": 0.5,
     "schema_version": 3,
     "solution": false,
     "task": false
    }
   },
   "outputs": [],
   "source": [
    "# Please leave this cell empty - used for grading."
   ]
  },
  {
   "cell_type": "code",
   "execution_count": 13,
   "id": "1d5aee9e-7772-45b8-9501-5ca7512a0d72",
   "metadata": {
    "ExecuteTime": {
     "end_time": "2023-12-21T17:52:44.409218100Z",
     "start_time": "2023-12-21T17:52:44.207068900Z"
    },
    "deletable": false,
    "editable": false,
    "nbgrader": {
     "cell_type": "code",
     "checksum": "247f8d10eac536dd3fdf0b2660477604",
     "grade": true,
     "grade_id": "cell-44a8f2a471498ce1",
     "locked": true,
     "points": 1,
     "schema_version": 3,
     "solution": false,
     "task": false
    }
   },
   "outputs": [],
   "source": [
    "# Please leave this cell empty - used for grading."
   ]
  },
  {
   "cell_type": "markdown",
   "id": "5c5d047747c70b71",
   "metadata": {
    "collapsed": false,
    "deletable": false,
    "editable": false,
    "nbgrader": {
     "cell_type": "markdown",
     "checksum": "17f3f72c680b2ea87c277575fa6b1824",
     "grade": false,
     "grade_id": "cell-99421790cf8ee781",
     "locked": true,
     "schema_version": 3,
     "solution": false,
     "task": false
    }
   },
   "source": [
    "### e)\n",
    "Find all association rules in the data that have a **confidence of at least 0.3** and a **minimum lift of 1.2**. Create and show a dataframe `association_rules` listing the antecedents, consequents, support, confidence, and lift of each of these discovered rules. How do you interpret the quality of the discovered rules?"
   ]
  },
  {
   "cell_type": "code",
   "execution_count": 14,
   "id": "c02866981fc91b5d",
   "metadata": {
    "ExecuteTime": {
     "end_time": "2023-12-21T18:09:02.611341800Z",
     "start_time": "2023-12-21T18:09:02.550380700Z"
    },
    "deletable": false,
    "nbgrader": {
     "cell_type": "code",
     "checksum": "16b5ec8c2910e55766ee184033f5b4cf",
     "grade": false,
     "grade_id": "cell-e327a7cf364a2219",
     "locked": false,
     "schema_version": 3,
     "solution": true,
     "task": false
    }
   },
   "outputs": [
    {
     "name": "stdout",
     "output_type": "stream",
     "text": [
      "     antecedents      consequents   support  confidence      lift\n",
      "0    (chocolate)  (mineral water)  0.052667    0.321400  1.348907\n",
      "1  (ground beef)  (mineral water)  0.040933    0.416554  1.748266\n",
      "2         (milk)  (mineral water)  0.048000    0.370370  1.554436\n",
      "3    (spaghetti)  (mineral water)  0.059733    0.343032  1.439698\n"
     ]
    }
   ],
   "source": [
    "from mlxtend.frequent_patterns import association_rules as arule\n",
    "import pandas as pd\n",
    "\n",
    "# YOUR CODE HERE\n",
    "\n",
    "# confidence of at least 0.3\n",
    "association_rules_df = arule(frequent_itemsets, metric=\"confidence\", min_threshold=0.3)\n",
    "\n",
    "# Filter the rules by minimum lift of 1.2\n",
    "association_rules_filtered = association_rules_df[association_rules_df['lift'] >= 1.2]\n",
    "\n",
    "association_rules = association_rules_filtered.reset_index(drop=True)\n",
    "association_rules = association_rules[['antecedents', 'consequents', 'support', 'confidence', 'lift']]\n",
    "\n",
    "print(association_rules)"
   ]
  },
  {
   "cell_type": "code",
   "execution_count": 15,
   "id": "33743f4f1fcaca55",
   "metadata": {
    "ExecuteTime": {
     "start_time": "2023-12-21T17:52:44.427137Z"
    },
    "deletable": false,
    "editable": false,
    "nbgrader": {
     "cell_type": "code",
     "checksum": "ee88032836a6f4668ef764473c5de164",
     "grade": true,
     "grade_id": "cell-a679ce7c3726bb46",
     "locked": true,
     "points": 1.5,
     "schema_version": 3,
     "solution": false,
     "task": false
    }
   },
   "outputs": [],
   "source": [
    "# Please leave this cell empty - used for grading."
   ]
  },
  {
   "cell_type": "markdown",
   "id": "919ada7debc04c7",
   "metadata": {
    "collapsed": false,
    "deletable": false,
    "nbgrader": {
     "cell_type": "markdown",
     "checksum": "ed97aa0f7f7c03bc2c9b071717bc2ef2",
     "grade": true,
     "grade_id": "cell-fa87db9317fb677e",
     "locked": false,
     "points": 0.5,
     "schema_version": 3,
     "solution": true,
     "task": false
    }
   },
   "source": [
    "__Student Answer:__ _your answer goes here_\n",
    "\n",
    "Rule quality is judged by how often the rule happens, how trustworthy it is, and how strong the link is between the items in the rule:\n",
    "\n",
    "Trustworthiness (Confidence over 0.3 in this case): This means a lot of the time when you see the first item, you'll also find the second item. It points to a solid rule but needs to be looked at with the other two factors.\n",
    "Strong Link (Lift over 1.2): This shows that the first and second items really go together, more than just by chance. If the first item is there, it's more likely the second one will be too.\n",
    "How Often It Happens (Support): This tells us how common the rule is. On its own, it doesn't tell us much about whether the rule is helpful. But, when a rule is common, trustworthy, and has a strong link, it means the rule is good at predicting the second item in new situations.\n",
    "Good rules are those that are common enough, very trustworthy, and have a strong link between the items."
   ]
  },
  {
   "cell_type": "markdown",
   "id": "89d2a5a2aae35bbb",
   "metadata": {
    "collapsed": false,
    "deletable": false,
    "editable": false,
    "nbgrader": {
     "cell_type": "markdown",
     "checksum": "e36a5cbe3797b89acfcee186c291c63f",
     "grade": false,
     "grade_id": "cell-90d2659fd7ef5a4c",
     "locked": true,
     "schema_version": 3,
     "solution": false,
     "task": false
    }
   },
   "source": [
    "### f) \n",
    "Find all frequent itemsets with a **support of at least 0.03** using **FP-Growth** and save them in a variable called `fp_frequent_itemsets`. Display the resulting itemsets and the processing time (in milliseconds) required to detect them. "
   ]
  },
  {
   "cell_type": "code",
   "execution_count": 16,
   "id": "89835e7d32bd6df8",
   "metadata": {
    "ExecuteTime": {
     "start_time": "2023-12-21T17:52:44.429661900Z"
    },
    "deletable": false,
    "nbgrader": {
     "cell_type": "code",
     "checksum": "e3b419b2a2b55e666f68e1d762ca7053",
     "grade": false,
     "grade_id": "cell-b10cd06390e16eef",
     "locked": false,
     "schema_version": 3,
     "solution": true,
     "task": false
    }
   },
   "outputs": [
    {
     "name": "stdout",
     "output_type": "stream",
     "text": [
      "     support                            itemsets\n",
      "0   0.179733                              (eggs)\n",
      "1   0.087200                           (burgers)\n",
      "2   0.062533                            (turkey)\n",
      "3   0.033200                           (avocado)\n",
      "4   0.238267                     (mineral water)\n",
      "5   0.132000                         (green tea)\n",
      "6   0.129600                              (milk)\n",
      "7   0.058533                  (whole wheat rice)\n",
      "8   0.076400                    (low fat yogurt)\n",
      "9   0.170933                      (french fries)\n",
      "10  0.050533                              (soup)\n",
      "11  0.174133                         (spaghetti)\n",
      "12  0.095333                 (frozen vegetables)\n",
      "13  0.080400                           (cookies)\n",
      "14  0.051067                       (cooking oil)\n",
      "15  0.046800                         (champagne)\n",
      "16  0.042400                            (salmon)\n",
      "17  0.163867                         (chocolate)\n",
      "18  0.071333                            (shrimp)\n",
      "19  0.060000                           (chicken)\n",
      "20  0.047333                             (honey)\n",
      "21  0.068400                          (tomatoes)\n",
      "22  0.095067                          (pancakes)\n",
      "23  0.052400                     (grated cheese)\n",
      "24  0.043067                       (fresh bread)\n",
      "25  0.098267                       (ground beef)\n",
      "26  0.079333                          (escalope)\n",
      "27  0.063200                   (frozen smoothie)\n",
      "28  0.049467                     (herb & pepper)\n",
      "29  0.081067                              (cake)\n",
      "30  0.031733                    (cottage cheese)\n",
      "31  0.032400                          (hot dogs)\n",
      "32  0.033733                          (brownies)\n",
      "33  0.065733                         (olive oil)\n",
      "34  0.030133                            (butter)\n",
      "35  0.030267                      (tomato juice)\n",
      "36  0.050933               (mineral water, eggs)\n",
      "37  0.030933          (green tea, mineral water)\n",
      "38  0.048000               (mineral water, milk)\n",
      "39  0.035467                   (spaghetti, milk)\n",
      "40  0.032133                   (chocolate, milk)\n",
      "41  0.030800                        (eggs, milk)\n",
      "42  0.036400                (french fries, eggs)\n",
      "43  0.033733       (french fries, mineral water)\n",
      "44  0.059733          (mineral water, spaghetti)\n",
      "45  0.036533                   (eggs, spaghetti)\n",
      "46  0.035733  (mineral water, frozen vegetables)\n",
      "47  0.033200                   (eggs, chocolate)\n",
      "48  0.052667          (mineral water, chocolate)\n",
      "49  0.034400           (french fries, chocolate)\n",
      "50  0.039200              (spaghetti, chocolate)\n",
      "51  0.033733           (mineral water, pancakes)\n",
      "52  0.040933        (mineral water, ground beef)\n",
      "53  0.039200            (spaghetti, ground beef)\n",
      "Processing time: 60.60 milliseconds\n"
     ]
    },
    {
     "name": "stderr",
     "output_type": "stream",
     "text": [
      "/Users/yu-tinghuang/miniconda3/envs/env-ids-ws23/lib/python3.9/site-packages/mlxtend/frequent_patterns/fpcommon.py:109: DeprecationWarning: DataFrames with non-bool types result in worse computationalperformance and their support might be discontinued in the future.Please use a DataFrame with bool type\n",
      "  warnings.warn(\n"
     ]
    }
   ],
   "source": [
    "from mlxtend.frequent_patterns import fpgrowth\n",
    "\n",
    "# YOUR CODE HERE\n",
    "\n",
    "start_time = datetime.datetime.now()\n",
    "\n",
    "# Use the FP-Growth algorithm to find frequent itemsets with a support of at least 0.03\n",
    "fp_frequent_itemsets = fpgrowth(itemset_matrix, min_support=0.03, use_colnames=True)\n",
    "\n",
    "# Calculate processing time in milliseconds\n",
    "end_time = datetime.datetime.now()\n",
    "processing_time_ms = (end_time - start_time).total_seconds() * 1000\n",
    "\n",
    "print(fp_frequent_itemsets)\n",
    "print(f\"Processing time: {processing_time_ms:.2f} milliseconds\")"
   ]
  },
  {
   "cell_type": "code",
   "execution_count": 17,
   "id": "5a14cee3e68d8f22",
   "metadata": {
    "ExecuteTime": {
     "start_time": "2023-12-21T17:52:44.432964300Z"
    },
    "deletable": false,
    "editable": false,
    "nbgrader": {
     "cell_type": "code",
     "checksum": "9dbed919baa60c2bbca9b2a0f80bfefd",
     "grade": true,
     "grade_id": "cell-f6db4f83882256e4",
     "locked": true,
     "points": 1,
     "schema_version": 3,
     "solution": false,
     "task": false
    }
   },
   "outputs": [],
   "source": [
    "# Please leave this cell empty - used for grading."
   ]
  },
  {
   "cell_type": "markdown",
   "id": "b2614936708f96dd",
   "metadata": {
    "collapsed": false,
    "deletable": false,
    "editable": false,
    "nbgrader": {
     "cell_type": "markdown",
     "checksum": "7584ca3de218801533cc276a4706743f",
     "grade": false,
     "grade_id": "cell-b8aa8bd4714c33f8",
     "locked": true,
     "schema_version": 3,
     "solution": false,
     "task": false
    }
   },
   "source": [
    "### g)\n",
    "Using the itemsets identified by **FP-Growth**: Find all association rules in the data that have a **confidence of at least 0.3** and a **minimum lift of 1.2**. Create and show a dataframe `fp_association_rules` listing the antecedents, consequents, support, confidence, and lift of each of these discovered rules."
   ]
  },
  {
   "cell_type": "code",
   "execution_count": 18,
   "id": "580f5cb4037661b5",
   "metadata": {
    "ExecuteTime": {
     "start_time": "2023-12-21T17:52:44.436195Z"
    },
    "deletable": false,
    "nbgrader": {
     "cell_type": "code",
     "checksum": "a55a69847064b32e60aa519f29da41af",
     "grade": false,
     "grade_id": "cell-0c80caf0f9830690",
     "locked": false,
     "schema_version": 3,
     "solution": true,
     "task": false
    }
   },
   "outputs": [
    {
     "name": "stdout",
     "output_type": "stream",
     "text": [
      "           antecedents      consequents   support  confidence      lift\n",
      "0               (milk)  (mineral water)  0.048000    0.370370  1.554436\n",
      "1          (spaghetti)  (mineral water)  0.059733    0.343032  1.439698\n",
      "2  (frozen vegetables)  (mineral water)  0.035733    0.374825  1.573133\n",
      "3          (chocolate)  (mineral water)  0.052667    0.321400  1.348907\n",
      "4           (pancakes)  (mineral water)  0.033733    0.354839  1.489250\n",
      "5        (ground beef)  (mineral water)  0.040933    0.416554  1.748266\n",
      "6        (ground beef)      (spaghetti)  0.039200    0.398915  2.290857\n"
     ]
    }
   ],
   "source": [
    "# YOUR CODE HERE\n",
    "\n",
    "fp_association_rules_result = arule(fp_frequent_itemsets, metric=\"confidence\", min_threshold=0.3)\n",
    "\n",
    "# Filter the rules by the minimum lift of 1.2\n",
    "fp_association_rules_filtered = fp_association_rules_result[fp_association_rules_result['lift'] >= 1.2]\n",
    "\n",
    "fp_association_rules = fp_association_rules_filtered[['antecedents', 'consequents', 'support', 'confidence', 'lift']]\n",
    "\n",
    "print(fp_association_rules)"
   ]
  },
  {
   "cell_type": "code",
   "execution_count": 19,
   "id": "ea4399572581c7fd",
   "metadata": {
    "ExecuteTime": {
     "start_time": "2023-12-21T17:52:44.438387400Z"
    },
    "deletable": false,
    "editable": false,
    "nbgrader": {
     "cell_type": "code",
     "checksum": "8a5d3b2ab2d594894f4a631bdab61b76",
     "grade": true,
     "grade_id": "cell-ff5497278dbc8846",
     "locked": true,
     "points": 1,
     "schema_version": 3,
     "solution": false,
     "task": false
    }
   },
   "outputs": [],
   "source": [
    "# Please leave this cell empty - used for grading."
   ]
  },
  {
   "cell_type": "markdown",
   "id": "8b072778b8cb12e6",
   "metadata": {
    "collapsed": false,
    "deletable": false,
    "editable": false,
    "nbgrader": {
     "cell_type": "markdown",
     "checksum": "a084475f4e7d6d72cc4ca6e763de26bb",
     "grade": false,
     "grade_id": "cell-5f478e175dfe8122",
     "locked": true,
     "points": 1,
     "schema_version": 3,
     "solution": false,
     "task": true
    }
   },
   "source": [
    "### h) \n",
    "You would like to compare the apriori algorithms and FP-Growth.\n",
    "\n",
    "i) Both algorithms use the same data (transaction data) as an input and provide association rules as an output. How do the algorithms differ in the way they identify association rules?\n"
   ]
  },
  {
   "cell_type": "markdown",
   "id": "1b866925711edb1e",
   "metadata": {
    "collapsed": false
   },
   "source": [
    "__Student Answer:__ _Add your answer here._\n",
    "\n",
    "Apriori Algorithm:\n",
    "Making Lists: Apriori starts by making lists of items bought together and keeps checking these lists against all shopping data to find matches. It begins with individual items and adds more to the list step by step, removing any list that doesn't pop up often enough in the shopping data.\n",
    "Step-by-Step Checking: It checks the data in steps, where each step looks at lists of different lengths. Apriori uses information from shorter lists (found in earlier steps) to decide which longer lists might also be popular, cutting down on the number of lists it needs to check but still requiring it to go through the shopping data many times.\n",
    "Slower with Big Data: Because of its method of checking and rechecking lists against all the data, Apriori can be slow and not as good for very large datasets. It has to read through all the shopping data multiple times, which takes a lot of time.\n",
    "\n",
    "FP-Growth Algorithm:\n",
    "Building a Tree: FP-Growth takes a different approach by building a tree that shows which items are bought together. This tree is made by going through the shopping data twice: once to see which items are most common and again to build the tree using this information.\n",
    "Growing Patterns: Instead of making lists like Apriori, FP-Growth uses the tree to find patterns. It breaks the tree into smaller parts and finds popular combinations in each part by adding items to patterns it has already found. This way, it doesn't have to go through the whole shopping data again and again.\n",
    "Faster and More Scalable: FP-Growth is usually faster and better for handling big datasets because it doesn't need to make and check long lists of items. However, building and storing the tree can use a lot of computer memory, but this is often worth it because it makes the whole process much quicker.\n",
    "\n",
    "Putting It Simply:\n",
    "How They Work: Apriori makes and checks lists of items, while FP-Growth builds a tree to simplify finding item combinations.\n",
    "Speed and Size: FP-Growth generally works faster, especially with a lot of data, because it doesn’t go through the data as many times as Apriori does.\n",
    "Memory Use: FP-Growth might use more memory because of the tree, but it's usually worth it for its speed.\n",
    "Both methods aim to find out which items are often bought together, but FP-Growth often comes out ahead in terms of speed and handling bigger datasets, even though it might need a bit more memory to do its job."
   ]
  },
  {
   "cell_type": "markdown",
   "id": "e0734b27-d7d8-44c4-bfd5-c9aa5350ece1",
   "metadata": {
    "deletable": false,
    "editable": false,
    "nbgrader": {
     "cell_type": "markdown",
     "checksum": "44ca4901f997613a64c17226eb55c9a9",
     "grade": false,
     "grade_id": "cell-adbdd585c8a2c29a",
     "locked": true,
     "points": 1,
     "schema_version": 3,
     "solution": false,
     "task": true
    }
   },
   "source": [
    "ii) Consider your results of the previous tasks. Do the two algorithms provide the same association rules? Is this always the case?"
   ]
  },
  {
   "cell_type": "markdown",
   "id": "97333d42-9d98-45f0-b5f8-8fbb5e6b3ae8",
   "metadata": {},
   "source": [
    "__Student Answer:__ _Add your answer here._"
   ]
  },
  {
   "cell_type": "markdown",
   "id": "8951e430-f51c-4736-af66-f89c470b9a80",
   "metadata": {
    "deletable": false,
    "editable": false,
    "nbgrader": {
     "cell_type": "markdown",
     "checksum": "70792efff77cb9fb3f79cdabc3e1bba4",
     "grade": false,
     "grade_id": "cell-a08ed5920d546de1",
     "locked": true,
     "points": 0,
     "schema_version": 3,
     "solution": false,
     "task": true
    }
   },
   "source": [
    "iii) Compare the processing time for finding the frequent itemsets tasks using the apriori algorithm and FG-Growth. What do you notice? Is this the result you expected? Briefly explain your answers.\n"
   ]
  },
  {
   "cell_type": "markdown",
   "id": "04e5676d-edba-4c36-a9f6-76aa6add5985",
   "metadata": {},
   "source": [
    "__Student Answer:__ _Add your answer here._"
   ]
  }
 ],
 "metadata": {
  "kernelspec": {
   "display_name": "Python 3 (ipykernel)",
   "language": "python",
   "name": "python3"
  },
  "language_info": {
   "codemirror_mode": {
    "name": "ipython",
    "version": 3
   },
   "file_extension": ".py",
   "mimetype": "text/x-python",
   "name": "python",
   "nbconvert_exporter": "python",
   "pygments_lexer": "ipython3",
   "version": "3.9.18"
  }
 },
 "nbformat": 4,
 "nbformat_minor": 5
}
